{
 "cells": [
  {
   "cell_type": "markdown",
   "metadata": {},
   "source": [
    "# Similarity of Programming Languages"
   ]
  },
  {
   "cell_type": "code",
   "execution_count": 1,
   "metadata": {},
   "outputs": [],
   "source": [
    "import matplotlib.pyplot as plt\n",
    "import collections\n",
    "import pandas\n",
    "import numpy\n",
    "import json\n",
    "import os"
   ]
  },
  {
   "cell_type": "code",
   "execution_count": 2,
   "metadata": {},
   "outputs": [],
   "source": [
    "folder_personality = \"personality\""
   ]
  },
  {
   "cell_type": "code",
   "execution_count": 3,
   "metadata": {},
   "outputs": [],
   "source": [
    "all_files = os.listdir(folder_personality)"
   ]
  },
  {
   "cell_type": "code",
   "execution_count": 4,
   "metadata": {},
   "outputs": [],
   "source": [
    "import scipy.spatial.distance as distance"
   ]
  },
  {
   "cell_type": "code",
   "execution_count": 5,
   "metadata": {},
   "outputs": [],
   "source": [
    "from sklearn.cluster import KMeans\n",
    "from sklearn.cluster import AgglomerativeClustering\n",
    "from scipy.cluster.hierarchy import dendrogram, linkage\n",
    "from scipy.stats import wilcoxon"
   ]
  },
  {
   "cell_type": "code",
   "execution_count": 6,
   "metadata": {},
   "outputs": [],
   "source": [
    "complete_data_by_lang = dict()\n",
    "for filename in all_files:\n",
    "    with open(os.path.join(folder_personality, filename)) as f:\n",
    "        data = f.readlines()\n",
    "        data = \" \".join(data)\n",
    "        data = json.loads(data)\n",
    "    prog_lang = filename.split(\"_\")[0]\n",
    "    if prog_lang not in complete_data_by_lang:\n",
    "        complete_data_by_lang[prog_lang] = collections.defaultdict(int)\n",
    "    for i in range(5):\n",
    "        complete_data_by_lang[prog_lang][data[\"personality\"][i][\"trait_id\"]] = data[\"personality\"][i][\"raw_score\"]\n",
    "        for j in range(6):\n",
    "            complete_data_by_lang[prog_lang][data[\"personality\"][i][\"children\"][j][\"trait_id\"]] = data[\"personality\"][i][\"children\"][j][\"raw_score\"]\n",
    "    for i in range(8):\n",
    "        preferences = data[\"consumption_preferences\"][i][\"consumption_preferences\"]\n",
    "        for preference in preferences:\n",
    "            complete_data_by_lang[prog_lang][preference[\"consumption_preference_id\"].split(\"_\")[-1]] += preference[\"score\"]\n",
    "    for i in range(12):\n",
    "        complete_data_by_lang[prog_lang][data[\"needs\"][i][\"trait_id\"]] = data[\"needs\"][i][\"raw_score\"]\n",
    "    for i in range(5):\n",
    "        complete_data_by_lang[prog_lang][data[\"values\"][i][\"trait_id\"]] = data[\"values\"][i][\"raw_score\"]"
   ]
  },
  {
   "cell_type": "code",
   "execution_count": 7,
   "metadata": {},
   "outputs": [
    {
     "data": {
      "image/png": "[encoded data removed]",
      "text/plain": [
       "<Figure size 1440x360 with 1 Axes>"
      ]
     },
     "metadata": {
      "needs_background": "light"
     },
     "output_type": "display_data"
    }
   ],
   "source": [
    "connections = linkage(pandas.DataFrame(complete_data_by_lang).T, \"ward\")\n",
    "plt.figure(figsize=(20,5))\n",
    "dendrogram(connections, labels=list(pandas.DataFrame(complete_data_by_lang).columns))\n",
    "plt.show()"
   ]
  },
  {
   "cell_type": "code",
   "execution_count": null,
   "metadata": {},
   "outputs": [],
   "source": []
  }
 ],
 "metadata": {
  "kernelspec": {
   "display_name": "Python 3",
   "language": "python",
   "name": "python3"
  },
  "language_info": {
   "codemirror_mode": {
    "name": "ipython",
    "version": 3
   },
   "file_extension": ".py",
   "mimetype": "text/x-python",
   "name": "python",
   "nbconvert_exporter": "python",
   "pygments_lexer": "ipython3",
   "version": "3.7.4"
  }
 },
 "nbformat": 4,
 "nbformat_minor": 2
}
